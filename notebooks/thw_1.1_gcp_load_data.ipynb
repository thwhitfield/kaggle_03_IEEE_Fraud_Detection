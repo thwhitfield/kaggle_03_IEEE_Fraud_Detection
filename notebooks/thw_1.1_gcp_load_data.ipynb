{
 "cells": [
  {
   "cell_type": "markdown",
   "id": "packed-tsunami",
   "metadata": {},
   "source": [
    "# Load Data on GCP"
   ]
  },
  {
   "cell_type": "markdown",
   "id": "lasting-peripheral",
   "metadata": {},
   "source": [
    "Download kaggle datasets from the gcp storage bucket and put them in the data/raw folder so that the other notebooks/scripts can access them like normal"
   ]
  },
  {
   "cell_type": "code",
   "execution_count": 1,
   "id": "primary-jungle",
   "metadata": {},
   "outputs": [],
   "source": [
    "import pandas as pd\n",
    "import numpy as np\n",
    "from scipy import stats\n",
    "import matplotlib.pyplot as plt\n",
    "import matplotlib\n",
    "%matplotlib inline\n",
    "import seaborn as sns\n",
    "import os\n",
    "import pathlib\n",
    "\n",
    "from inflection import underscore\n",
    "\n",
    "from trav_lib.data_prep import reduce_memory\n",
    "\n",
    "sns.set()\n",
    "pd.set_option('display.max_columns',500)"
   ]
  },
  {
   "cell_type": "code",
   "execution_count": 3,
   "id": "local-guess",
   "metadata": {},
   "outputs": [],
   "source": [
    "from google.cloud import storage"
   ]
  },
  {
   "cell_type": "code",
   "execution_count": 2,
   "id": "listed-letters",
   "metadata": {},
   "outputs": [],
   "source": [
    "data_dir = pathlib.Path().resolve().parent / 'data'\n",
    "\n",
    "data_raw = data_dir / 'raw'\n",
    "data_interim = data_dir / 'interim'\n",
    "data_external = data_dir / 'external'\n",
    "data_processed = data_dir / 'processed'\n",
    "\n",
    "model_dir = pathlib.Path().resolve().parent / 'models'"
   ]
  },
  {
   "cell_type": "code",
   "execution_count": 4,
   "id": "smaller-matter",
   "metadata": {},
   "outputs": [
    {
     "name": "stdout",
     "output_type": "stream",
     "text": [
      "Client created using default project: ascendant-nova-305804\n",
      "\n",
      "Bucket name: trav_bucket\n",
      "Bucket location: US-EAST4\n",
      "Bucket storage class: STANDARD\n"
     ]
    }
   ],
   "source": [
    "client = storage.Client()\n",
    "print(\"Client created using default project: {}\\n\".format(client.project))\n",
    "\n",
    "bucket_name = 'trav_bucket'\n",
    "bucket = client.get_bucket(bucket_name)\n",
    "\n",
    "print(\"Bucket name: {}\".format(bucket.name))\n",
    "print(\"Bucket location: {}\".format(bucket.location))\n",
    "print(\"Bucket storage class: {}\".format(bucket.storage_class))"
   ]
  },
  {
   "cell_type": "markdown",
   "id": "dietary-saint",
   "metadata": {},
   "source": [
    "### Download files from gcp storage bucket"
   ]
  },
  {
   "cell_type": "code",
   "execution_count": 10,
   "id": "responsible-washington",
   "metadata": {},
   "outputs": [],
   "source": [
    "blobs = bucket.list_blobs()\n",
    "\n",
    "for blob in blobs:\n",
    "    file_name = blob.name.split('/')[1]\n",
    "    file_path = data_raw / file_name\n",
    "    blob.download_to_filename(file_path) # download the file to the machine"
   ]
  },
  {
   "cell_type": "code",
   "execution_count": null,
   "id": "warming-rebecca",
   "metadata": {},
   "outputs": [],
   "source": []
  },
  {
   "cell_type": "code",
   "execution_count": null,
   "id": "charged-shower",
   "metadata": {},
   "outputs": [],
   "source": []
  },
  {
   "cell_type": "code",
   "execution_count": null,
   "id": "wound-batch",
   "metadata": {},
   "outputs": [],
   "source": []
  }
 ],
 "metadata": {
  "environment": {
   "name": "common-cpu.mnightly-2021-02-12-debian-10-test",
   "type": "gcloud",
   "uri": "gcr.io/deeplearning-platform-release/base-cpu:mnightly-2021-02-12-debian-10-test"
  },
  "kernelspec": {
   "display_name": "Python 3",
   "language": "python",
   "name": "python3"
  },
  "language_info": {
   "codemirror_mode": {
    "name": "ipython",
    "version": 3
   },
   "file_extension": ".py",
   "mimetype": "text/x-python",
   "name": "python",
   "nbconvert_exporter": "python",
   "pygments_lexer": "ipython3",
   "version": "3.7.9"
  }
 },
 "nbformat": 4,
 "nbformat_minor": 5
}
