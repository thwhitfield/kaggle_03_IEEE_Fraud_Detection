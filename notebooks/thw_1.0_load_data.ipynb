{
 "cells": [
  {
   "cell_type": "markdown",
   "metadata": {},
   "source": [
    "# Load Data"
   ]
  },
  {
   "cell_type": "code",
   "execution_count": 10,
   "metadata": {},
   "outputs": [],
   "source": [
    "import pandas as pd\n",
    "import numpy as np\n",
    "from scipy import stats\n",
    "import matplotlib.pyplot as plt\n",
    "import matplotlib\n",
    "%matplotlib inline\n",
    "import seaborn as sns\n",
    "import os\n",
    "import pathlib\n",
    "\n",
    "from inflection import underscore\n",
    "\n",
    "from trav_lib.data_prep import reduce_memory\n",
    "\n",
    "sns.set()\n",
    "pd.set_option('display.max_columns',500)"
   ]
  },
  {
   "cell_type": "code",
   "execution_count": 2,
   "metadata": {},
   "outputs": [],
   "source": [
    "data_dir = pathlib.Path().resolve().parent / 'data'\n",
    "\n",
    "data_raw = data_dir / 'raw'\n",
    "data_interim = data_dir / 'interim'\n",
    "data_external = data_dir / 'external'\n",
    "data_processed = data_dir / 'processed'\n",
    "\n",
    "model_dir = pathlib.Path().resolve().parent / 'models'"
   ]
  },
  {
   "cell_type": "markdown",
   "metadata": {},
   "source": [
    "## Load Data"
   ]
  },
  {
   "cell_type": "code",
   "execution_count": 3,
   "metadata": {},
   "outputs": [
    {
     "data": {
      "text/plain": [
       "['.gitkeep',\n",
       " 'sample_submission.csv',\n",
       " 'test_identity.csv',\n",
       " 'test_transaction.csv',\n",
       " 'train_identity.csv',\n",
       " 'train_transaction.csv']"
      ]
     },
     "execution_count": 3,
     "metadata": {},
     "output_type": "execute_result"
    }
   ],
   "source": [
    "os.listdir(data_raw)"
   ]
  },
  {
   "cell_type": "code",
   "execution_count": 4,
   "metadata": {},
   "outputs": [],
   "source": [
    "trans = pd.read_csv(data_raw / 'train_transaction.csv', index_col=0)\n",
    "identity = pd.read_csv(data_raw / 'train_identity.csv', index_col=0)\n",
    "\n",
    "test_trans = pd.read_csv(data_raw / 'test_transaction.csv', index_col=0)\n",
    "test_identity = pd.read_csv(data_raw / 'test_identity.csv', index_col=0)"
   ]
  },
  {
   "cell_type": "code",
   "execution_count": 5,
   "metadata": {},
   "outputs": [],
   "source": [
    "# switch all columns to snake_case\n",
    "for df in [trans, identity, test_trans, test_identity]:\n",
    "    df.columns = [underscore(col) for col in df.columns]\n",
    "    df.index.name = underscore(df.index.name)"
   ]
  },
  {
   "cell_type": "markdown",
   "metadata": {},
   "source": [
    "### Merge transaction and identity files"
   ]
  },
  {
   "cell_type": "code",
   "execution_count": 6,
   "metadata": {},
   "outputs": [],
   "source": [
    "train = trans.merge(identity, how = 'left', left_index=True, right_index=True, indicator = 'identity_match')\n",
    "train['identity_match'] = (train['identity_match']=='both').astype(int)"
   ]
  },
  {
   "cell_type": "code",
   "execution_count": 7,
   "metadata": {},
   "outputs": [],
   "source": [
    "test = test_trans.merge(test_identity, how = 'left', left_index=True, right_index=True, indicator = 'identity_match')\n",
    "test['identity_match'] = (test['identity_match']=='both').astype(int)"
   ]
  },
  {
   "cell_type": "markdown",
   "metadata": {},
   "source": [
    "### Downcast numeric columns and convert categorical columns"
   ]
  },
  {
   "cell_type": "code",
   "execution_count": 8,
   "metadata": {},
   "outputs": [],
   "source": [
    "target_col = 'is_fraud'\n",
    "date_col = 'transaction_dt'\n",
    "trans_cat_cols = ['product_cd','card1','card2','card3','card4','card5','card6','addr1','addr2',\n",
    "                  'p_emaildomain','r_emaildomain','m1','m2','m3','m4','m5','m6','m7','m8','m9']\n",
    "trans_num_cols = list(train.loc[:,:'v339'].columns.drop([target_col] + trans_cat_cols + [date_col]))\n",
    "\n",
    "ident_cat_cols = list(train.loc[:,'id_12':'identity_match'].columns)\n",
    "ident_num_cols = list(train.loc[:,'id_01':'id_11'].columns)\n",
    "\n",
    "cat_cols = trans_cat_cols + ident_cat_cols\n",
    "num_cols = trans_num_cols + ident_num_cols"
   ]
  },
  {
   "cell_type": "code",
   "execution_count": 11,
   "metadata": {},
   "outputs": [
    {
     "name": "stdout",
     "output_type": "stream",
     "text": [
      "before: 2729.2 MB\n",
      "after: 967.6 MB\n",
      "decreased by: 64.55 %\n",
      "before: 2358.2 MB\n",
      "after: 832.9 MB\n",
      "decreased by: 64.68 %\n"
     ]
    }
   ],
   "source": [
    "train = reduce_memory(train, cat_cols)\n",
    "test = reduce_memory(test, cat_cols)"
   ]
  },
  {
   "cell_type": "markdown",
   "metadata": {},
   "source": [
    "### Save as parquet files"
   ]
  },
  {
   "cell_type": "code",
   "execution_count": 12,
   "metadata": {},
   "outputs": [],
   "source": [
    "train.to_parquet(data_interim / 'train.parquet')\n",
    "test.to_parquet(data_interim / 'test.parquet')"
   ]
  }
 ],
 "metadata": {
  "kernelspec": {
   "display_name": "Python 3",
   "language": "python",
   "name": "python3"
  },
  "language_info": {
   "codemirror_mode": {
    "name": "ipython",
    "version": 3
   },
   "file_extension": ".py",
   "mimetype": "text/x-python",
   "name": "python",
   "nbconvert_exporter": "python",
   "pygments_lexer": "ipython3",
   "version": "3.7.4"
  }
 },
 "nbformat": 4,
 "nbformat_minor": 4
}
