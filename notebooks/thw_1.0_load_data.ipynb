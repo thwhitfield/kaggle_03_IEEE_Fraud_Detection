{
 "cells": [
  {
   "cell_type": "markdown",
   "metadata": {},
   "source": [
    "# Load Data"
   ]
  },
  {
   "cell_type": "code",
   "execution_count": 1,
   "metadata": {},
   "outputs": [
    {
     "name": "stderr",
     "output_type": "stream",
     "text": [
      "C:\\Users\\User\\Anaconda3\\lib\\site-packages\\statsmodels\\tools\\_testing.py:19: FutureWarning: pandas.util.testing is deprecated. Use the functions in the public API at pandas.testing instead.\n",
      "  import pandas.util.testing as tm\n"
     ]
    }
   ],
   "source": [
    "import pandas as pd\n",
    "import numpy as np\n",
    "from scipy import stats\n",
    "import matplotlib.pyplot as plt\n",
    "import matplotlib\n",
    "%matplotlib inline\n",
    "import seaborn as sns\n",
    "import os\n",
    "import pathlib\n",
    "\n",
    "from inflection import underscore\n",
    "\n",
    "sns.set()\n",
    "pd.set_option('display.max_columns',500)"
   ]
  },
  {
   "cell_type": "code",
   "execution_count": 2,
   "metadata": {},
   "outputs": [],
   "source": [
    "data_dir = pathlib.Path().resolve().parent / 'data'\n",
    "\n",
    "data_raw = data_dir / 'raw'\n",
    "data_interim = data_dir / 'interim'\n",
    "data_external = data_dir / 'external'\n",
    "data_processed = data_dir / 'processed'\n",
    "\n",
    "model_dir = pathlib.Path().resolve().parent / 'models'"
   ]
  },
  {
   "cell_type": "markdown",
   "metadata": {},
   "source": [
    "## Load Data"
   ]
  },
  {
   "cell_type": "code",
   "execution_count": 3,
   "metadata": {},
   "outputs": [
    {
     "data": {
      "text/plain": [
       "['.gitkeep',\n",
       " 'sample_submission.csv',\n",
       " 'test_identity.csv',\n",
       " 'test_transaction.csv',\n",
       " 'train_identity.csv',\n",
       " 'train_transaction.csv']"
      ]
     },
     "execution_count": 3,
     "metadata": {},
     "output_type": "execute_result"
    }
   ],
   "source": [
    "os.listdir(data_raw)"
   ]
  },
  {
   "cell_type": "code",
   "execution_count": 4,
   "metadata": {},
   "outputs": [],
   "source": [
    "trans = pd.read_csv(data_raw / 'train_transaction.csv', index_col=0)\n",
    "identity = pd.read_csv(data_raw / 'train_identity.csv', index_col=0)\n",
    "\n",
    "test_trans = pd.read_csv(data_raw / 'test_transaction.csv', index_col=0)\n",
    "test_identity = pd.read_csv(data_raw / 'test_identity.csv', index_col=0)"
   ]
  },
  {
   "cell_type": "code",
   "execution_count": 5,
   "metadata": {},
   "outputs": [],
   "source": [
    "# switch all columns to snake_case\n",
    "for df in [trans, identity, test_trans, test_identity]:\n",
    "    df.columns = [underscore(col) for col in df.columns]\n",
    "    df.index.name = underscore(df.index.name)"
   ]
  },
  {
   "cell_type": "markdown",
   "metadata": {},
   "source": [
    "### Save transaction and identity files separately"
   ]
  },
  {
   "cell_type": "code",
   "execution_count": 7,
   "metadata": {},
   "outputs": [],
   "source": [
    "trans.to_parquet(data_interim / 'train_transaction.parquet')\n",
    "identity.to_parquet(data_interim / 'train_identity.parquet')\n",
    "\n",
    "test_trans.to_parquet(data_interim / 'test_transaction.parquet')\n",
    "test_identity.to_parquet(data_interim / 'test_identity.parquet')"
   ]
  },
  {
   "cell_type": "markdown",
   "metadata": {},
   "source": [
    "### Merge transaction and identity files and then save\n",
    "#### TODO: Go back and check if this is the appropriate way to combine the two dataframes"
   ]
  },
  {
   "cell_type": "code",
   "execution_count": 8,
   "metadata": {},
   "outputs": [],
   "source": [
    "train = trans.merge(identity, how = 'left', left_index=True, right_index=True, indicator = 'identity_match')\n",
    "train['identity_match'] = (train['identity_match']=='both').astype(int)"
   ]
  },
  {
   "cell_type": "code",
   "execution_count": 9,
   "metadata": {},
   "outputs": [],
   "source": [
    "test = test_trans.merge(test_identity, how = 'left', left_index=True, right_index=True, indicator = 'identity_match')\n",
    "test['identity_match'] = (test['identity_match']=='both').astype(int)"
   ]
  },
  {
   "cell_type": "code",
   "execution_count": 14,
   "metadata": {},
   "outputs": [],
   "source": [
    "train.to_parquet(data_interim / 'train.parquet')\n",
    "test.to_parquet(data_interim / 'test.parquet')"
   ]
  }
 ],
 "metadata": {
  "kernelspec": {
   "display_name": "Python 3",
   "language": "python",
   "name": "python3"
  },
  "language_info": {
   "codemirror_mode": {
    "name": "ipython",
    "version": 3
   },
   "file_extension": ".py",
   "mimetype": "text/x-python",
   "name": "python",
   "nbconvert_exporter": "python",
   "pygments_lexer": "ipython3",
   "version": "3.7.4"
  }
 },
 "nbformat": 4,
 "nbformat_minor": 4
}
